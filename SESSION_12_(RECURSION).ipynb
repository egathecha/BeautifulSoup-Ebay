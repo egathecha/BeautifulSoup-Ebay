{
  "nbformat": 4,
  "nbformat_minor": 0,
  "metadata": {
    "kernelspec": {
      "display_name": "Python 3",
      "language": "python",
      "name": "python3"
    },
    "language_info": {
      "codemirror_mode": {
        "name": "ipython",
        "version": 3
      },
      "file_extension": ".py",
      "mimetype": "text/x-python",
      "name": "python",
      "nbconvert_exporter": "python",
      "pygments_lexer": "ipython3",
      "version": "3.7.3"
    },
    "colab": {
      "name": "SESSION 12 (RECURSION).ipynb",
      "provenance": [],
      "toc_visible": true
    }
  },
  "cells": [
    {
      "cell_type": "markdown",
      "metadata": {
        "id": "V3GWek7q5bmS"
      },
      "source": [
        "# RECURSION\n",
        "### Advantages of Recursion\n",
        "#### 1.Recursive functions make the code look clean and elegant.\n",
        "#### 2.A complex task can be broken down into simpler sub-problems using recursion.\n",
        "\n",
        "### Disadvantages of Recursion\n",
        "#### 1.Sometimes the logic behind recursion is hard to follow through.\n",
        "#### 2.Recursive calls are expensive (inefficient) as they take up a lot of memory and time."
      ]
    },
    {
      "cell_type": "markdown",
      "metadata": {
        "id": "AHbKFlkj5bmb"
      },
      "source": [
        "# 1.Direct Recursion"
      ]
    },
    {
      "cell_type": "markdown",
      "metadata": {
        "id": "TpUSZiSE5bmc"
      },
      "source": [
        "## Linear Recursion"
      ]
    },
    {
      "cell_type": "markdown",
      "metadata": {
        "id": "z4d28exl5bmd"
      },
      "source": [
        "<img src=\"Linear_Rec1.jpg\" style = \"width: 400px;height:200px\"/>"
      ]
    },
    {
      "cell_type": "code",
      "metadata": {
        "id": "JIUy0rwf5bmd"
      },
      "source": [
        "def lin_rec(x):\n",
        "    print(x)\n",
        "    if x == 1:\n",
        "        return 1\n",
        "    return lin_rec(x-1)"
      ],
      "execution_count": null,
      "outputs": []
    },
    {
      "cell_type": "code",
      "metadata": {
        "id": "6la4OYmt5bme",
        "outputId": "76e39120-5e2d-4ca4-a97b-0352a83303dd"
      },
      "source": [
        "lin_rec(6)\n",
        "print(\"back to original program\")"
      ],
      "execution_count": null,
      "outputs": [
        {
          "output_type": "stream",
          "text": [
            "6\n",
            "5\n",
            "4\n",
            "3\n",
            "2\n",
            "1\n",
            "back to original program\n"
          ],
          "name": "stdout"
        }
      ]
    },
    {
      "cell_type": "markdown",
      "metadata": {
        "id": "ppu62vwA5bmg"
      },
      "source": [
        "## I.Head Recursion"
      ]
    },
    {
      "cell_type": "markdown",
      "metadata": {
        "id": "Coh7K5x75bmg"
      },
      "source": [
        "<img src=\"Head_rec2.jpg\" style = \"width: 400px;height:200px\"/>"
      ]
    },
    {
      "cell_type": "code",
      "metadata": {
        "id": "PVMt5-r95bmg"
      },
      "source": [
        "def head_rec(n):\n",
        "    if n>=1:\n",
        "        head_rec(n-1)\n",
        "    else:\n",
        "        return 1\n",
        "    print(n)"
      ],
      "execution_count": null,
      "outputs": []
    },
    {
      "cell_type": "code",
      "metadata": {
        "id": "4qHTgKwO5bmh",
        "outputId": "f9255e7c-63fc-4c61-bea7-fcb54742b35d"
      },
      "source": [
        "head_rec(5)"
      ],
      "execution_count": null,
      "outputs": [
        {
          "output_type": "stream",
          "text": [
            "1\n",
            "2\n",
            "3\n",
            "4\n",
            "5\n"
          ],
          "name": "stdout"
        }
      ]
    },
    {
      "cell_type": "markdown",
      "metadata": {
        "id": "VjVIU3K65bmi"
      },
      "source": [
        "## II.Tail Recursion"
      ]
    },
    {
      "cell_type": "markdown",
      "metadata": {
        "id": "4bLaGCqf5bmi"
      },
      "source": [
        "<img src=\"Linear_Rec1.jpg\" style = \"width: 400px;height:200px\"/>"
      ]
    },
    {
      "cell_type": "code",
      "metadata": {
        "id": "hU633JHk5bmi"
      },
      "source": [
        "def tail_rec(x):\n",
        "    print(x)\n",
        "    if x == 1:\n",
        "        return 1\n",
        "    return tail_rec(x-1)"
      ],
      "execution_count": null,
      "outputs": []
    },
    {
      "cell_type": "code",
      "metadata": {
        "id": "jw0GOpL-5bmj",
        "outputId": "99f3dd52-97b6-4910-9323-2de9be635325"
      },
      "source": [
        "lin_rec(6)"
      ],
      "execution_count": null,
      "outputs": [
        {
          "output_type": "stream",
          "text": [
            "6\n",
            "5\n",
            "4\n",
            "3\n",
            "2\n",
            "1\n"
          ],
          "name": "stdout"
        },
        {
          "output_type": "execute_result",
          "data": {
            "text/plain": [
              "1"
            ]
          },
          "metadata": {
            "tags": []
          },
          "execution_count": 9
        }
      ]
    },
    {
      "cell_type": "markdown",
      "metadata": {
        "id": "Kx989Gfk5bmk"
      },
      "source": [
        "## Binary Recursion"
      ]
    },
    {
      "cell_type": "markdown",
      "metadata": {
        "id": "_HOJidgd5bmk"
      },
      "source": [
        "<img src='fibonacci.png'/>"
      ]
    },
    {
      "cell_type": "code",
      "metadata": {
        "id": "oc0q7bYF5bmk"
      },
      "source": [
        "def binary_rec(x):\n",
        "    print(x)\n",
        "    if x == 1:\n",
        "        return 1\n",
        "    print(\"This is for first recursive call\")\n",
        "    binary_rec(x-1)\n",
        "    print(\"This is for second recursive call\")\n",
        "    binary_rec(x//2)"
      ],
      "execution_count": null,
      "outputs": []
    },
    {
      "cell_type": "code",
      "metadata": {
        "id": "hQDKMr015bml",
        "outputId": "8110bc13-f02e-4776-a1ca-548ab123e93d"
      },
      "source": [
        "binary_rec(4)"
      ],
      "execution_count": null,
      "outputs": [
        {
          "output_type": "stream",
          "text": [
            "4\n",
            "This is for first recursive call\n",
            "3\n",
            "This is for first recursive call\n",
            "2\n",
            "This is for first recursive call\n",
            "1\n",
            "This is for second recursive call\n",
            "1\n",
            "This is for second recursive call\n",
            "1\n",
            "This is for second recursive call\n",
            "2\n",
            "This is for first recursive call\n",
            "1\n",
            "This is for second recursive call\n",
            "1\n"
          ],
          "name": "stdout"
        }
      ]
    },
    {
      "cell_type": "markdown",
      "metadata": {
        "id": "3-uNF7ae5bml"
      },
      "source": [
        "## Multiple Recursion"
      ]
    },
    {
      "cell_type": "code",
      "metadata": {
        "id": "aI9azzUe5bmm"
      },
      "source": [
        "def multiple_rec(x):\n",
        "    print(x)\n",
        "    if x==2: return 2\n",
        "    multiple_rec(x//2)\n",
        "    multiple_rec(x//2)\n",
        "    multiple_rec(x//2)"
      ],
      "execution_count": null,
      "outputs": []
    },
    {
      "cell_type": "code",
      "metadata": {
        "id": "ihoZV6gK5bmm",
        "outputId": "c32b54d5-2ed5-45d1-9f28-064df2418bdd"
      },
      "source": [
        "multiple_rec(8)"
      ],
      "execution_count": null,
      "outputs": [
        {
          "output_type": "stream",
          "text": [
            "8\n",
            "4\n",
            "2\n",
            "2\n",
            "2\n",
            "4\n",
            "2\n",
            "2\n",
            "2\n",
            "4\n",
            "2\n",
            "2\n",
            "2\n"
          ],
          "name": "stdout"
        }
      ]
    },
    {
      "cell_type": "markdown",
      "metadata": {
        "id": "_ndxgZs-5bmm"
      },
      "source": [
        "# 2.Indirect Recursion"
      ]
    },
    {
      "cell_type": "markdown",
      "metadata": {
        "id": "HHTNtv3d5bmn"
      },
      "source": [
        "<img src ='Indirect_Recursion.jpg' />"
      ]
    },
    {
      "cell_type": "code",
      "metadata": {
        "id": "4iiqgQ605bmn"
      },
      "source": [
        "#factorial by iterative logic\n",
        "def factorial(n):\n",
        "    x=1\n",
        "    for i in range(1,n+1):\n",
        "        x=x*i\n",
        "    return x"
      ],
      "execution_count": null,
      "outputs": []
    },
    {
      "cell_type": "code",
      "metadata": {
        "id": "JBJLN1z-5bmn",
        "outputId": "b590127c-0ab6-4028-88b0-3fe18bbf04ec"
      },
      "source": [
        "factorial(5)"
      ],
      "execution_count": null,
      "outputs": [
        {
          "output_type": "execute_result",
          "data": {
            "text/plain": [
              "120"
            ]
          },
          "metadata": {
            "tags": []
          },
          "execution_count": 23
        }
      ]
    },
    {
      "cell_type": "code",
      "metadata": {
        "id": "k_uErGWq5bmo"
      },
      "source": [
        "#factorial by recursive logic\n",
        "def factorial(n):\n",
        "    if n==1:\n",
        "        return 1\n",
        "    return n*factorial(n-1)"
      ],
      "execution_count": null,
      "outputs": []
    },
    {
      "cell_type": "code",
      "metadata": {
        "id": "Pf32HT5e5bmo",
        "outputId": "c288727c-1295-4f8b-9304-8805c4cfd1a6"
      },
      "source": [
        "factorial(1)"
      ],
      "execution_count": null,
      "outputs": [
        {
          "output_type": "execute_result",
          "data": {
            "text/plain": [
              "1"
            ]
          },
          "metadata": {
            "tags": []
          },
          "execution_count": 28
        }
      ]
    },
    {
      "cell_type": "code",
      "metadata": {
        "id": "bqUUWD415bmp"
      },
      "source": [
        "#nth term of fibonacci series by iterative logic\n",
        "def fib(n):\n",
        "    a = 0\n",
        "    b = 1\n",
        "    while n > 0:\n",
        "        print(a)\n",
        "        n -= 1\n",
        "        a, b = b, a + b"
      ],
      "execution_count": null,
      "outputs": []
    },
    {
      "cell_type": "code",
      "metadata": {
        "id": "X-sQY-nN5bmp",
        "outputId": "c5c403e7-ba38-43c9-9fb0-fce14f1d7ed4"
      },
      "source": [
        "fib(11)"
      ],
      "execution_count": null,
      "outputs": [
        {
          "output_type": "stream",
          "text": [
            "0\n",
            "1\n",
            "1\n",
            "2\n",
            "3\n",
            "5\n",
            "8\n",
            "13\n",
            "21\n",
            "34\n",
            "55\n"
          ],
          "name": "stdout"
        }
      ]
    },
    {
      "cell_type": "code",
      "metadata": {
        "id": "rTrdhmKC5bmq"
      },
      "source": [
        "#nth term of fibonacci series by recursive logic\n",
        "def fibonacci(n):\n",
        "    if n<=1:\n",
        "        return n\n",
        "    return fibonacci(n-1) + fibonacci(n-2)"
      ],
      "execution_count": null,
      "outputs": []
    },
    {
      "cell_type": "code",
      "metadata": {
        "id": "QsJH4ep05bmq",
        "outputId": "24b1dc9b-b28f-4107-d736-7cef9177f327"
      },
      "source": [
        "fibonacci(6)"
      ],
      "execution_count": null,
      "outputs": [
        {
          "output_type": "execute_result",
          "data": {
            "text/plain": [
              "8"
            ]
          },
          "metadata": {
            "tags": []
          },
          "execution_count": 37
        }
      ]
    },
    {
      "cell_type": "code",
      "metadata": {
        "id": "-YeLwbUs5bmq"
      },
      "source": [
        ""
      ],
      "execution_count": null,
      "outputs": []
    }
  ]
}